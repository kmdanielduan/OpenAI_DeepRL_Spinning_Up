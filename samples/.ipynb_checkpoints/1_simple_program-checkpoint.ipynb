{
 "cells": [
  {
   "cell_type": "code",
   "execution_count": 1,
   "metadata": {},
   "outputs": [],
   "source": [
    "import tensorflow as tf\n",
    "import numpy as np \n",
    "import gym\n",
    "from gym.spaces import Discrete, Box"
   ]
  },
  {
   "cell_type": "code",
   "execution_count": 2,
   "metadata": {},
   "outputs": [],
   "source": [
    "def mlp(x, sizes, activation=tf.tanh, output_activation=None):\n",
    "\n",
    "    # building a feedforward neural network.\n",
    "    for size in sizes[:-1]:\n",
    "        x = tf.layers.dense(x, units=size, activation=activation)\n",
    "    return tf.layers.dense(x, units=sizes[-1], activation=output_activation)"
   ]
  },
  {
   "cell_type": "code",
   "execution_count": 3,
   "metadata": {},
   "outputs": [],
   "source": [
    "def train(env_name='CartPole-v0', hidden_sizes=[32], lr=1e-2,\n",
    "         epochs=50, batch_size=5000, render=False):\n",
    "    \n",
    "    # make environment,check spaces, get obs / act dims\n",
    "    env = gym.make(env_name)\n",
    "    assert isinstance(env.observation_space, Box), \\\n",
    "    \"This example only works for envs with continuous state spaces.\"\n",
    "    assert isinstance(env.action_space, Discrete), \\\n",
    "    \"This example only works for envs with discrete action spaces.\"\n",
    "    \n",
    "    obs_dim = env.observation_space.shape[0]\n",
    "    n_acts = env.action_space.n\n",
    "    \n",
    "    # make core of policy network\n",
    "    obs_ph = tf.placeholder(shape=(None, obs_dim),dtype=tf.float32)\n",
    "    logits = mlp(obs_ph, sizes=hidden_sizes+[n_acts])\n",
    "    \n",
    "    # make action selection op (outputs int actions, sampled from policy)\n",
    "    actions = tf.squeeze(tf.multinomial(logits=logits,num_samples=1),axis=1)\n",
    "    \n",
    "    # make loss function whose gradient, for the right data, is policy gradient\n",
    "    weights_ph = tf.placeholder(shape=(None,), dtype=tf.float32)\n",
    "    act_ph = tf.placeholder(shape=(None,), dtype=tf.int32)\n",
    "    action_masks = tf.one_hot(act_ph, n_acts)\n",
    "    log_probs = tf.reduce_sum(action_masks * tf.nn.log_softmax(logits), axis=1)\n",
    "    loss = -tf.reduce_mean(weights_ph * log_probs)\n",
    "    \n",
    "    train_op = tf.train.AdamOptimizer(learning_rate=lr).minimize(loss)\n",
    "    \n",
    "    sess = tf.InteractiveSession()\n",
    "    sess.run(tf.global_variables_initializer())\n",
    "    \n",
    "    # for training policy\n",
    "    def train_one_epoch():\n",
    "        # make some empty lists for logging\n",
    "        batch_obs = []     # for observations\n",
    "        batch_acts = []    # for actions\n",
    "        batch_weights = [] # for R(tau) weighting in policy gradient\n",
    "        batch_rets = []    # for measuring episode returns\n",
    "        batch_lens = []    # for measuring episode lengths\n",
    "        \n",
    "        # reset episode-specific variables\n",
    "        obs = env.reset()  # first obs comes from starting distribution\n",
    "        done = False       # signal from environment that episode is over\n",
    "        ep_rews = []       # list for rewards accrued throughout ep\n",
    "        \n",
    "        # render first episode of each epoch\n",
    "        finished_rendering_this_epoch = False\n",
    "        \n",
    "        # collect experience by acting in the environment with current policy\n",
    "        while True:\n",
    "            \n",
    "            # rendering\n",
    "            if (not finished_rendering_this_epoch) and render:\n",
    "                env.render()\n",
    "                \n",
    "            # save obs\n",
    "            batch_obs.append(obs.copy())\n",
    "            \n",
    "            # act in the environment\n",
    "            act = sess.run(actions, {obs_ph: obs.reshape(1,-1)})[0]\n",
    "            obs, rew, done, _ = env.step(act)\n",
    "            \n",
    "            # save action, reward\n",
    "            batch_acts.append(act)\n",
    "            ep_rews.append(rew)\n",
    "            \n",
    "            if done:\n",
    "                # if episode is over, record info about episode\n",
    "                ep_ret, ep_len = sum(ep_rews), len(ep_rews)\n",
    "                batch_rets.append(ep_ret)\n",
    "                batch_lens.append(ep_len)\n",
    "                \n",
    "                # the weight for each logprob(a|s) is R(tau)\n",
    "                batch_weights += [ep_ret] * ep_len\n",
    "                \n",
    "                # reset episode-specific variables\n",
    "                obs, done, ep_rews = env.reset(), False, []\n",
    "                \n",
    "                # won't render again this epoch\n",
    "                finished_rendering_this_epoch = True\n",
    "                \n",
    "                # end experience loop if we have enough of it\n",
    "                if len(batch_obs) > batch_size:\n",
    "                    break\n",
    "                    \n",
    "        # take a single policy gradient update step\n",
    "        batch_loss, _ = sess.run([loss, train_op],\n",
    "                                feed_dict = {\n",
    "                                    obs_ph : np.array(batch_obs),\n",
    "                                    act_ph : np.array(batch_acts),\n",
    "                                    weights_ph: np.array(batch_weights)\n",
    "                                })\n",
    "        return batch_loss, batch_rets, batch_lens\n",
    "    \n",
    "    epoch_loss_list = []\n",
    "    epoch_rets_list = []\n",
    "    epoch_lens_list = []\n",
    "    \n",
    "    # training loop\n",
    "    for i in range(epochs):\n",
    "        batch_loss, batch_rets, batch_lens = train_one_epoch()\n",
    "        \n",
    "        epoch_loss_list.append(batch_loss)\n",
    "        epoch_rets_list.append(np.mean(batch_rets))\n",
    "        epoch_lens_list.append(np.mean(batch_lens))\n",
    "        \n",
    "        print('epoch: %3d \\t loss: %.3f \\t return: %.3f \\t ep_len: %.3f'%\n",
    "             (i, batch_loss, np.mean(batch_rets), np.mean(batch_lens)))\n",
    "    \n",
    "    return epoch_loss_list, epoch_rets_list, epoch_lens_list"
   ]
  },
  {
   "cell_type": "code",
   "execution_count": 4,
   "metadata": {},
   "outputs": [],
   "source": [
    "import matplotlib.pyplot as plt\n",
    "def plot(epoch_loss, epoch_rets, epoch_lens):\n",
    "    plt.plot(epoch_loss)\n",
    "    plt.show()\n",
    "    plt.plot(epoch_rets)\n",
    "    plt.show()\n",
    "    plt.plot(epoch_lens)\n",
    "    plt.show()"
   ]
  },
  {
   "cell_type": "code",
   "execution_count": 5,
   "metadata": {},
   "outputs": [],
   "source": [
    "def main():\n",
    "    epoch_loss, epoch_rets, epoch_lens = train()\n",
    "    plot(epoch_loss, epoch_rets, epoch_lens)"
   ]
  },
  {
   "cell_type": "code",
   "execution_count": 6,
   "metadata": {},
   "outputs": [
    {
     "name": "stdout",
     "output_type": "stream",
     "text": [
      "WARNING:tensorflow:From <ipython-input-2-1dc2d175d5cf>:5: dense (from tensorflow.python.layers.core) is deprecated and will be removed in a future version.\n",
      "Instructions for updating:\n",
      "Use keras.layers.dense instead.\n",
      "WARNING:tensorflow:From /Applications/anaconda3/lib/python3.7/site-packages/tensorflow/python/framework/op_def_library.py:263: colocate_with (from tensorflow.python.framework.ops) is deprecated and will be removed in a future version.\n",
      "Instructions for updating:\n",
      "Colocations handled automatically by placer.\n",
      "WARNING:tensorflow:From <ipython-input-3-7ebd382fd3ef>:19: multinomial (from tensorflow.python.ops.random_ops) is deprecated and will be removed in a future version.\n",
      "Instructions for updating:\n",
      "Use tf.random.categorical instead.\n",
      "WARNING:tensorflow:From /Applications/anaconda3/lib/python3.7/site-packages/tensorflow/python/ops/math_ops.py:3066: to_int32 (from tensorflow.python.ops.math_ops) is deprecated and will be removed in a future version.\n",
      "Instructions for updating:\n",
      "Use tf.cast instead.\n"
     ]
    },
    {
     "ename": "UnboundLocalError",
     "evalue": "local variable 'batch_loss' referenced before assignment",
     "output_type": "error",
     "traceback": [
      "\u001b[0;31m---------------------------------------------------------------------------\u001b[0m",
      "\u001b[0;31mUnboundLocalError\u001b[0m                         Traceback (most recent call last)",
      "\u001b[0;32m<ipython-input-6-263240bbee7e>\u001b[0m in \u001b[0;36m<module>\u001b[0;34m\u001b[0m\n\u001b[0;32m----> 1\u001b[0;31m \u001b[0mmain\u001b[0m\u001b[0;34m(\u001b[0m\u001b[0;34m)\u001b[0m\u001b[0;34m\u001b[0m\u001b[0;34m\u001b[0m\u001b[0m\n\u001b[0m",
      "\u001b[0;32m<ipython-input-5-72ebf93ffe2f>\u001b[0m in \u001b[0;36mmain\u001b[0;34m()\u001b[0m\n\u001b[1;32m      1\u001b[0m \u001b[0;32mdef\u001b[0m \u001b[0mmain\u001b[0m\u001b[0;34m(\u001b[0m\u001b[0;34m)\u001b[0m\u001b[0;34m:\u001b[0m\u001b[0;34m\u001b[0m\u001b[0;34m\u001b[0m\u001b[0m\n\u001b[0;32m----> 2\u001b[0;31m     \u001b[0mepoch_loss\u001b[0m\u001b[0;34m,\u001b[0m \u001b[0mepoch_rets\u001b[0m\u001b[0;34m,\u001b[0m \u001b[0mepoch_lens\u001b[0m \u001b[0;34m=\u001b[0m \u001b[0mtrain\u001b[0m\u001b[0;34m(\u001b[0m\u001b[0;34m)\u001b[0m\u001b[0;34m\u001b[0m\u001b[0;34m\u001b[0m\u001b[0m\n\u001b[0m\u001b[1;32m      3\u001b[0m     \u001b[0mplot\u001b[0m\u001b[0;34m(\u001b[0m\u001b[0mepoch_loss\u001b[0m\u001b[0;34m,\u001b[0m \u001b[0mepoch_rets\u001b[0m\u001b[0;34m,\u001b[0m \u001b[0mepoch_lens\u001b[0m\u001b[0;34m)\u001b[0m\u001b[0;34m\u001b[0m\u001b[0;34m\u001b[0m\u001b[0m\n",
      "\u001b[0;32m<ipython-input-3-7ebd382fd3ef>\u001b[0m in \u001b[0;36mtrain\u001b[0;34m(env_name, hidden_sizes, lr, epochs, batch_size, render)\u001b[0m\n\u001b[1;32m     94\u001b[0m         \u001b[0;32mreturn\u001b[0m \u001b[0mbatch_loss\u001b[0m\u001b[0;34m,\u001b[0m \u001b[0mbatch_rets\u001b[0m\u001b[0;34m,\u001b[0m \u001b[0mbatch_lens\u001b[0m\u001b[0;34m\u001b[0m\u001b[0;34m\u001b[0m\u001b[0m\n\u001b[1;32m     95\u001b[0m \u001b[0;34m\u001b[0m\u001b[0m\n\u001b[0;32m---> 96\u001b[0;31m     \u001b[0mepoch_loss\u001b[0m \u001b[0;34m=\u001b[0m \u001b[0mbatch_loss\u001b[0m\u001b[0;34m\u001b[0m\u001b[0;34m\u001b[0m\u001b[0m\n\u001b[0m\u001b[1;32m     97\u001b[0m     \u001b[0mepoch_rets\u001b[0m \u001b[0;34m=\u001b[0m \u001b[0mnp\u001b[0m\u001b[0;34m.\u001b[0m\u001b[0mmean\u001b[0m\u001b[0;34m(\u001b[0m\u001b[0mbatch_rets\u001b[0m\u001b[0;34m)\u001b[0m\u001b[0;34m\u001b[0m\u001b[0;34m\u001b[0m\u001b[0m\n\u001b[1;32m     98\u001b[0m     \u001b[0mepoch_lens\u001b[0m \u001b[0;34m=\u001b[0m \u001b[0mnp\u001b[0m\u001b[0;34m.\u001b[0m\u001b[0mmean\u001b[0m\u001b[0;34m(\u001b[0m\u001b[0mbatch_lens\u001b[0m\u001b[0;34m)\u001b[0m\u001b[0;34m\u001b[0m\u001b[0;34m\u001b[0m\u001b[0m\n",
      "\u001b[0;31mUnboundLocalError\u001b[0m: local variable 'batch_loss' referenced before assignment"
     ]
    }
   ],
   "source": [
    "main()"
   ]
  },
  {
   "cell_type": "code",
   "execution_count": null,
   "metadata": {},
   "outputs": [],
   "source": []
  }
 ],
 "metadata": {
  "kernelspec": {
   "display_name": "Python 3",
   "language": "python",
   "name": "python3"
  },
  "language_info": {
   "codemirror_mode": {
    "name": "ipython",
    "version": 3
   },
   "file_extension": ".py",
   "mimetype": "text/x-python",
   "name": "python",
   "nbconvert_exporter": "python",
   "pygments_lexer": "ipython3",
   "version": "3.7.1"
  }
 },
 "nbformat": 4,
 "nbformat_minor": 2
}
