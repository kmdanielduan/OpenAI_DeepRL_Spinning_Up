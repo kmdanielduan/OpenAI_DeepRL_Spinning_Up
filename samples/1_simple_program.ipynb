{
 "cells": [
  {
   "cell_type": "code",
   "execution_count": 1,
   "metadata": {},
   "outputs": [],
   "source": [
    "import tensorflow as tf\n",
    "import numpy as np \n",
    "import gym\n",
    "from gym.spaces import Discrete, Box"
   ]
  },
  {
   "cell_type": "code",
   "execution_count": 2,
   "metadata": {},
   "outputs": [],
   "source": [
    "def mlp(x, sizes, activation=tf.tanh, output_activation=None):\n",
    "\n",
    "    # building a feedforward neural network.\n",
    "    for size in sizes[:-1]:\n",
    "        x = tf.layers.dense(x, units=size, activation=activation)\n",
    "    return tf.layers.dense(x, units=sizes[-1], activation=output_activation)"
   ]
  },
  {
   "cell_type": "code",
   "execution_count": 3,
   "metadata": {},
   "outputs": [],
   "source": [
    "def train(env_name='CartPole-v0', hidden_sizes=[32], lr=1e-2,\n",
    "         epochs=50, batch_size=5000, render=True):\n",
    "    \n",
    "    # make environment,check spaces, get obs / act dims\n",
    "    env = gym.make(env_name)\n",
    "    assert isinstance(env.observation_space, Box), \\\n",
    "    \"This example only works for envs with continuous state spaces.\"\n",
    "    assert isinstance(env.action_space, Discrete), \\\n",
    "    \"This example only works for envs with discrete action spaces.\"\n",
    "    \n",
    "    obs_dim = env.observation_space.shape[0]\n",
    "    n_acts = env.action_space.n\n",
    "    \n",
    "    # make core of policy network\n",
    "    obs_ph = tf.placeholder(shape=(None, obs_dim),dtype=tf.float32)\n",
    "    logits = mlp(obs_ph, sizes=hidden_sizes+[n_acts])\n",
    "    \n",
    "    # make action selection op (outputs int actions, sampled from policy)\n",
    "    actions = tf.squeeze(tf.multinomial(logits=logits,num_samples=1),axis=1)\n",
    "    \n",
    "    # make loss function whose gradient, for the right data, is policy gradient\n",
    "    weights_ph = tf.placeholder(shape=(None,), dtype=tf.float32)\n",
    "    act_ph = tf.placeholder(shape=(None,), dtype=tf.int32)\n",
    "    action_masks = tf.one_hot(act_ph, n_acts)\n",
    "    log_probs = tf.reduce_sum(action_masks * tf.nn.log_softmax(logits), axis=1)\n",
    "    loss = -tf.reduce_mean(weights_ph * log_probs)\n",
    "    \n",
    "    train_op = tf.train.AdamOptimizer(learning_rate=lr).minimize(loss)\n",
    "    \n",
    "    sess = tf.InteractiveSession()\n",
    "    sess.run(tf.global_variables_initializer())\n",
    "    \n",
    "    # for training policy\n",
    "    def train_one_epoch():\n",
    "        # make some empty lists for logging\n",
    "        batch_obs = []     # for observations\n",
    "        batch_acts = []    # for actions\n",
    "        batch_weights = [] # for R(tau) weighting in policy gradient\n",
    "        batch_rets = []    # for measuring episode returns\n",
    "        batch_lens = []    # for measuring episode lengths\n",
    "        \n",
    "        # reset episode-specific variables\n",
    "        obs = env.reset()  # first obs comes from starting distribution\n",
    "        done = False       # signal from environment that episode is over\n",
    "        ep_rews = []       # list for rewards accrued throughout ep\n",
    "        \n",
    "        # render first episode of each epoch\n",
    "        finished_rendering_this_epoch = False\n",
    "        \n",
    "        # collect experience by acting in the environment with current policy\n",
    "        while True:\n",
    "            \n",
    "            # rendering\n",
    "            if (not finished_rendering_this_epoch) and render:\n",
    "                env.render()\n",
    "                \n",
    "            # save obs\n",
    "            batch_obs.append(obs.copy())\n",
    "            \n",
    "            # act in the environment\n",
    "            act = sess.run(actions, {obs_ph: obs.reshape(1,-1)})[0]\n",
    "            obs, rew, done, _ = env.step(act)\n",
    "            \n",
    "            # save action, reward\n",
    "            batch_acts.append(act)\n",
    "            ep_rews.append(rew)\n",
    "            \n",
    "            if done:\n",
    "                # if episode is over, record info about episode\n",
    "                ep_ret, ep_len = sum(ep_rews), len(ep_rews)\n",
    "                batch_rets.append(ep_ret)\n",
    "                batch_lens.append(ep_len)\n",
    "                \n",
    "                # the weight for each logprob(a|s) is R(tau)\n",
    "                batch_weights += [ep_ret] * ep_len\n",
    "                \n",
    "                # reset episode-specific variables\n",
    "                obs, done, ep_rews = env.reset(), False, []\n",
    "                \n",
    "                # won't render again this epoch\n",
    "                finished_rendering_this_epoch = True\n",
    "                \n",
    "                # end experience loop if we have enough of it\n",
    "                if len(batch_obs) > batch_size:\n",
    "                    break\n",
    "                    \n",
    "        # take a single policy gradient update step\n",
    "        batch_loss, _ = sess.run([loss, train_op],\n",
    "                                feed_dict = {\n",
    "                                    obs_ph : np.array(batch_obs),\n",
    "                                    act_ph : np.array(batch_acts),\n",
    "                                    weights_ph: np.array(batch_weights)\n",
    "                                })\n",
    "        return batch_loss, batch_rets, batch_lens\n",
    "    \n",
    "    epoch_loss_list = []\n",
    "    epoch_rets_list = []\n",
    "    epoch_lens_list = []\n",
    "    \n",
    "    # training loop\n",
    "    for i in range(epochs):\n",
    "        batch_loss, batch_rets, batch_lens = train_one_epoch()\n",
    "        \n",
    "        epoch_loss_list.append(batch_loss)\n",
    "        epoch_rets_list.append(np.mean(batch_rets))\n",
    "        epoch_lens_list.append(np.mean(batch_lens))\n",
    "        \n",
    "        print('epoch: %3d \\t loss: %.3f \\t return: %.3f \\t ep_len: %.3f'%\n",
    "             (i, batch_loss, np.mean(batch_rets), np.mean(batch_lens)))\n",
    "    env.close()\n",
    "    return epoch_loss_list, epoch_rets_list, epoch_lens_list"
   ]
  },
  {
   "cell_type": "code",
   "execution_count": 4,
   "metadata": {},
   "outputs": [],
   "source": [
    "import matplotlib.pyplot as plt\n",
    "def plot(epoch_loss, epoch_rets, epoch_lens):\n",
    "    plt.plot(epoch_loss)\n",
    "    plt.show()\n",
    "    plt.plot(epoch_rets)\n",
    "    plt.show()\n",
    "    plt.plot(epoch_lens)\n",
    "    plt.show()"
   ]
  },
  {
   "cell_type": "code",
   "execution_count": 5,
   "metadata": {},
   "outputs": [],
   "source": [
    "def main():\n",
    "    epoch_loss, epoch_rets, epoch_lens = train()\n",
    "    plot(epoch_loss, epoch_rets, epoch_lens)"
   ]
  },
  {
   "cell_type": "code",
   "execution_count": 6,
   "metadata": {},
   "outputs": [
    {
     "name": "stdout",
     "output_type": "stream",
     "text": [
      "WARNING:tensorflow:From <ipython-input-2-1dc2d175d5cf>:5: dense (from tensorflow.python.layers.core) is deprecated and will be removed in a future version.\n",
      "Instructions for updating:\n",
      "Use keras.layers.dense instead.\n",
      "WARNING:tensorflow:From /Applications/anaconda3/lib/python3.7/site-packages/tensorflow/python/framework/op_def_library.py:263: colocate_with (from tensorflow.python.framework.ops) is deprecated and will be removed in a future version.\n",
      "Instructions for updating:\n",
      "Colocations handled automatically by placer.\n",
      "WARNING:tensorflow:From <ipython-input-3-b57a6be5cc45>:19: multinomial (from tensorflow.python.ops.random_ops) is deprecated and will be removed in a future version.\n",
      "Instructions for updating:\n",
      "Use tf.random.categorical instead.\n",
      "WARNING:tensorflow:From /Applications/anaconda3/lib/python3.7/site-packages/tensorflow/python/ops/math_ops.py:3066: to_int32 (from tensorflow.python.ops.math_ops) is deprecated and will be removed in a future version.\n",
      "Instructions for updating:\n",
      "Use tf.cast instead.\n",
      "epoch:   0 \t loss: 15.369 \t return: 18.185 \t ep_len: 18.185\n",
      "epoch:   1 \t loss: 18.751 \t return: 21.118 \t ep_len: 21.118\n",
      "epoch:   2 \t loss: 21.224 \t return: 23.900 \t ep_len: 23.900\n",
      "epoch:   3 \t loss: 26.402 \t return: 28.913 \t ep_len: 28.913\n",
      "epoch:   4 \t loss: 33.798 \t return: 33.497 \t ep_len: 33.497\n",
      "epoch:   5 \t loss: 32.258 \t return: 37.237 \t ep_len: 37.237\n",
      "epoch:   6 \t loss: 37.809 \t return: 43.121 \t ep_len: 43.121\n",
      "epoch:   7 \t loss: 36.842 \t return: 44.558 \t ep_len: 44.558\n",
      "epoch:   8 \t loss: 34.094 \t return: 44.911 \t ep_len: 44.911\n",
      "epoch:   9 \t loss: 40.359 \t return: 48.654 \t ep_len: 48.654\n",
      "epoch:  10 \t loss: 49.147 \t return: 60.012 \t ep_len: 60.012\n",
      "epoch:  11 \t loss: 40.731 \t return: 54.108 \t ep_len: 54.108\n",
      "epoch:  12 \t loss: 45.290 \t return: 62.000 \t ep_len: 62.000\n",
      "epoch:  13 \t loss: 48.753 \t return: 67.307 \t ep_len: 67.307\n",
      "epoch:  14 \t loss: 49.369 \t return: 68.054 \t ep_len: 68.054\n",
      "epoch:  15 \t loss: 49.649 \t return: 68.378 \t ep_len: 68.378\n",
      "epoch:  16 \t loss: 51.253 \t return: 70.704 \t ep_len: 70.704\n",
      "epoch:  17 \t loss: 55.031 \t return: 78.266 \t ep_len: 78.266\n",
      "epoch:  18 \t loss: 51.194 \t return: 76.652 \t ep_len: 76.652\n",
      "epoch:  19 \t loss: 63.563 \t return: 96.808 \t ep_len: 96.808\n",
      "epoch:  20 \t loss: 58.933 \t return: 90.929 \t ep_len: 90.929\n",
      "epoch:  21 \t loss: 71.593 \t return: 104.250 \t ep_len: 104.250\n",
      "epoch:  22 \t loss: 71.851 \t return: 111.422 \t ep_len: 111.422\n",
      "epoch:  23 \t loss: 67.878 \t return: 108.638 \t ep_len: 108.638\n",
      "epoch:  24 \t loss: 74.826 \t return: 119.372 \t ep_len: 119.372\n",
      "epoch:  25 \t loss: 87.578 \t return: 139.833 \t ep_len: 139.833\n",
      "epoch:  26 \t loss: 93.933 \t return: 155.242 \t ep_len: 155.242\n",
      "epoch:  27 \t loss: 96.581 \t return: 166.645 \t ep_len: 166.645\n",
      "epoch:  28 \t loss: 96.329 \t return: 170.267 \t ep_len: 170.267\n",
      "epoch:  29 \t loss: 93.020 \t return: 163.935 \t ep_len: 163.935\n",
      "epoch:  30 \t loss: 100.137 \t return: 183.357 \t ep_len: 183.357\n",
      "epoch:  31 \t loss: 98.092 \t return: 174.621 \t ep_len: 174.621\n",
      "epoch:  32 \t loss: 93.582 \t return: 165.452 \t ep_len: 165.452\n",
      "epoch:  33 \t loss: 94.778 \t return: 169.200 \t ep_len: 169.200\n",
      "epoch:  34 \t loss: 92.422 \t return: 168.700 \t ep_len: 168.700\n",
      "epoch:  35 \t loss: 97.124 \t return: 176.483 \t ep_len: 176.483\n",
      "epoch:  36 \t loss: 99.083 \t return: 178.643 \t ep_len: 178.643\n",
      "epoch:  37 \t loss: 104.053 \t return: 194.000 \t ep_len: 194.000\n",
      "epoch:  38 \t loss: 102.712 \t return: 189.963 \t ep_len: 189.963\n",
      "epoch:  39 \t loss: 102.055 \t return: 192.885 \t ep_len: 192.885\n",
      "epoch:  40 \t loss: 101.244 \t return: 187.630 \t ep_len: 187.630\n",
      "epoch:  41 \t loss: 101.938 \t return: 192.731 \t ep_len: 192.731\n",
      "epoch:  42 \t loss: 99.835 \t return: 186.630 \t ep_len: 186.630\n",
      "epoch:  43 \t loss: 99.053 \t return: 184.107 \t ep_len: 184.107\n",
      "epoch:  44 \t loss: 95.708 \t return: 177.138 \t ep_len: 177.138\n",
      "epoch:  45 \t loss: 98.110 \t return: 184.714 \t ep_len: 184.714\n",
      "epoch:  46 \t loss: 97.214 \t return: 181.000 \t ep_len: 181.000\n",
      "epoch:  47 \t loss: 96.974 \t return: 179.821 \t ep_len: 179.821\n",
      "epoch:  48 \t loss: 100.164 \t return: 186.741 \t ep_len: 186.741\n",
      "epoch:  49 \t loss: 99.874 \t return: 189.741 \t ep_len: 189.741\n"
     ]
    },
    {
     "data": {
      "image/png": "[encoded data removed]",
      "text/plain": [
       "<Figure size 432x288 with 1 Axes>"
      ]
     },
     "metadata": {
      "needs_background": "light"
     },
     "output_type": "display_data"
    },
    {
     "data": {
      "image/png": "[encoded data removed]",
      "text/plain": [
       "<Figure size 432x288 with 1 Axes>"
      ]
     },
     "metadata": {
      "needs_background": "light"
     },
     "output_type": "display_data"
    },
    {
     "data": {
      "image/png": "[encoded data removed]",
      "text/plain": [
       "<Figure size 432x288 with 1 Axes>"
      ]
     },
     "metadata": {
      "needs_background": "light"
     },
     "output_type": "display_data"
    }
   ],
   "source": [
    "main()"
   ]
  },
  {
   "cell_type": "code",
   "execution_count": null,
   "metadata": {},
   "outputs": [],
   "source": []
  }
 ],
 "metadata": {
  "kernelspec": {
   "display_name": "Python 3",
   "language": "python",
   "name": "python3"
  },
  "language_info": {
   "codemirror_mode": {
    "name": "ipython",
    "version": 3
   },
   "file_extension": ".py",
   "mimetype": "text/x-python",
   "name": "python",
   "nbconvert_exporter": "python",
   "pygments_lexer": "ipython3",
   "version": "3.7.1"
  }
 },
 "nbformat": 4,
 "nbformat_minor": 2
}
